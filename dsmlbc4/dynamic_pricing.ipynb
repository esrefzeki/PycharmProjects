{
 "cells": [
  {
   "cell_type": "code",
   "execution_count": 101,
   "id": "buried-enzyme",
   "metadata": {},
   "outputs": [],
   "source": [
    "import numpy as np\n",
    "import pandas as pd\n",
    "import seaborn as sns\n",
    "import matplotlib.pyplot as plt\n",
    "import researchpy as rp\n",
    "\n",
    "pd.set_option('display.max_columns', None)\n",
    "pd.set_option('display.float_format', lambda x: '%.4f' % x)"
   ]
  },
  {
   "cell_type": "code",
   "execution_count": 10,
   "id": "future-mainstream",
   "metadata": {},
   "outputs": [
    {
     "data": {
      "text/plain": [
       "(3448, 2)"
      ]
     },
     "execution_count": 10,
     "metadata": {},
     "output_type": "execute_result"
    }
   ],
   "source": [
    "df = pd.read_csv(r'D:/python/bootcamp/week_05/dataset/pricing.csv', sep=';')\n",
    "df.shape"
   ]
  },
  {
   "cell_type": "code",
   "execution_count": 11,
   "id": "foreign-landscape",
   "metadata": {},
   "outputs": [
    {
     "data": {
      "text/html": [
       "<div>\n",
       "<style scoped>\n",
       "    .dataframe tbody tr th:only-of-type {\n",
       "        vertical-align: middle;\n",
       "    }\n",
       "\n",
       "    .dataframe tbody tr th {\n",
       "        vertical-align: top;\n",
       "    }\n",
       "\n",
       "    .dataframe thead th {\n",
       "        text-align: right;\n",
       "    }\n",
       "</style>\n",
       "<table border=\"1\" class=\"dataframe\">\n",
       "  <thead>\n",
       "    <tr style=\"text-align: right;\">\n",
       "      <th></th>\n",
       "      <th>category_id</th>\n",
       "      <th>price</th>\n",
       "    </tr>\n",
       "  </thead>\n",
       "  <tbody>\n",
       "    <tr>\n",
       "      <th>0</th>\n",
       "      <td>489756</td>\n",
       "      <td>32.1178</td>\n",
       "    </tr>\n",
       "    <tr>\n",
       "      <th>1</th>\n",
       "      <td>361254</td>\n",
       "      <td>30.7114</td>\n",
       "    </tr>\n",
       "    <tr>\n",
       "      <th>2</th>\n",
       "      <td>361254</td>\n",
       "      <td>31.5726</td>\n",
       "    </tr>\n",
       "    <tr>\n",
       "      <th>3</th>\n",
       "      <td>489756</td>\n",
       "      <td>34.5438</td>\n",
       "    </tr>\n",
       "    <tr>\n",
       "      <th>4</th>\n",
       "      <td>489756</td>\n",
       "      <td>47.2058</td>\n",
       "    </tr>\n",
       "  </tbody>\n",
       "</table>\n",
       "</div>"
      ],
      "text/plain": [
       "   category_id   price\n",
       "0       489756 32.1178\n",
       "1       361254 30.7114\n",
       "2       361254 31.5726\n",
       "3       489756 34.5438\n",
       "4       489756 47.2058"
      ]
     },
     "execution_count": 11,
     "metadata": {},
     "output_type": "execute_result"
    }
   ],
   "source": [
    "df.head()"
   ]
  },
  {
   "cell_type": "code",
   "execution_count": 12,
   "id": "selected-torture",
   "metadata": {},
   "outputs": [
    {
     "name": "stdout",
     "output_type": "stream",
     "text": [
      "<class 'pandas.core.frame.DataFrame'>\n",
      "RangeIndex: 3448 entries, 0 to 3447\n",
      "Data columns (total 2 columns):\n",
      " #   Column       Non-Null Count  Dtype  \n",
      "---  ------       --------------  -----  \n",
      " 0   category_id  3448 non-null   int64  \n",
      " 1   price        3448 non-null   float64\n",
      "dtypes: float64(1), int64(1)\n",
      "memory usage: 54.0 KB\n"
     ]
    }
   ],
   "source": [
    "df.info()"
   ]
  },
  {
   "cell_type": "code",
   "execution_count": 13,
   "id": "unexpected-click",
   "metadata": {},
   "outputs": [
    {
     "data": {
      "text/plain": [
       "array([489756, 361254, 874521, 326584, 675201, 201436], dtype=int64)"
      ]
     },
     "execution_count": 13,
     "metadata": {},
     "output_type": "execute_result"
    }
   ],
   "source": [
    "df['category_id'].unique()"
   ]
  },
  {
   "cell_type": "code",
   "execution_count": 14,
   "id": "sexual-jacob",
   "metadata": {},
   "outputs": [
    {
     "data": {
      "text/plain": [
       "[1705, 620, 750, 145, 131, 97]"
      ]
     },
     "execution_count": 14,
     "metadata": {},
     "output_type": "execute_result"
    }
   ],
   "source": [
    "[df[df['category_id']==cat].shape[0] for cat in df['category_id'].unique()]"
   ]
  },
  {
   "cell_type": "code",
   "execution_count": 32,
   "id": "dirty-preview",
   "metadata": {},
   "outputs": [],
   "source": [
    "item_cat_price = {}\n",
    "for cat in df['category_id'].unique():\n",
    "    item_cat_price['cat_ID_' + str(cat)] = df[df['category_id']==cat]['price']"
   ]
  },
  {
   "cell_type": "code",
   "execution_count": 16,
   "id": "statistical-expense",
   "metadata": {},
   "outputs": [
    {
     "data": {
      "text/plain": [
       "[1705, 620, 750, 145, 131, 97]"
      ]
     },
     "execution_count": 16,
     "metadata": {},
     "output_type": "execute_result"
    }
   ],
   "source": [
    "[len(vals) for _, vals in item_cat_price.items()]"
   ]
  },
  {
   "cell_type": "code",
   "execution_count": 38,
   "id": "offshore-verse",
   "metadata": {},
   "outputs": [
    {
     "data": {
      "text/html": [
       "<div>\n",
       "<style scoped>\n",
       "    .dataframe tbody tr th:only-of-type {\n",
       "        vertical-align: middle;\n",
       "    }\n",
       "\n",
       "    .dataframe tbody tr th {\n",
       "        vertical-align: top;\n",
       "    }\n",
       "\n",
       "    .dataframe thead th {\n",
       "        text-align: right;\n",
       "    }\n",
       "</style>\n",
       "<table border=\"1\" class=\"dataframe\">\n",
       "  <thead>\n",
       "    <tr style=\"text-align: right;\">\n",
       "      <th></th>\n",
       "      <th>Number of price</th>\n",
       "    </tr>\n",
       "  </thead>\n",
       "  <tbody>\n",
       "    <tr>\n",
       "      <th>cat_ID_489756</th>\n",
       "      <td>1705</td>\n",
       "    </tr>\n",
       "    <tr>\n",
       "      <th>cat_ID_361254</th>\n",
       "      <td>620</td>\n",
       "    </tr>\n",
       "    <tr>\n",
       "      <th>cat_ID_874521</th>\n",
       "      <td>750</td>\n",
       "    </tr>\n",
       "    <tr>\n",
       "      <th>cat_ID_326584</th>\n",
       "      <td>145</td>\n",
       "    </tr>\n",
       "    <tr>\n",
       "      <th>cat_ID_675201</th>\n",
       "      <td>131</td>\n",
       "    </tr>\n",
       "    <tr>\n",
       "      <th>cat_ID_201436</th>\n",
       "      <td>97</td>\n",
       "    </tr>\n",
       "  </tbody>\n",
       "</table>\n",
       "</div>"
      ],
      "text/plain": [
       "               Number of price\n",
       "cat_ID_489756             1705\n",
       "cat_ID_361254              620\n",
       "cat_ID_874521              750\n",
       "cat_ID_326584              145\n",
       "cat_ID_675201              131\n",
       "cat_ID_201436               97"
      ]
     },
     "execution_count": 38,
     "metadata": {},
     "output_type": "execute_result"
    }
   ],
   "source": [
    "dataset = pd.DataFrame(data= [len(vals) for _, vals in item_cat_price.items()], index= [*item_cat_price.keys()], columns=['Number of price'])\n",
    "dataset"
   ]
  },
  {
   "cell_type": "code",
   "execution_count": 23,
   "id": "guilty-creature",
   "metadata": {},
   "outputs": [
    {
     "data": {
      "text/plain": [
       "['cat_ID_489756',\n",
       " 'cat_ID_361254',\n",
       " 'cat_ID_874521',\n",
       " 'cat_ID_326584',\n",
       " 'cat_ID_675201',\n",
       " 'cat_ID_201436']"
      ]
     },
     "execution_count": 23,
     "metadata": {},
     "output_type": "execute_result"
    }
   ],
   "source": [
    "[*item_cat_price.keys()]"
   ]
  },
  {
   "cell_type": "code",
   "execution_count": 37,
   "id": "blond-roman",
   "metadata": {},
   "outputs": [
    {
     "data": {
      "image/png": "[encoded data removed]",
      "text/plain": [
       "<Figure size 864x432 with 6 Axes>"
      ]
     },
     "metadata": {},
     "output_type": "display_data"
    }
   ],
   "source": [
    "sns.set(font_scale=1.2)\n",
    "fig, ax = plt.subplots(2,3, figsize=(12,6))\n",
    "i = 0\n",
    "for key, vals in item_cat_price.items():\n",
    "    ax[i//3,i%3].boxplot(vals, showmeans=True)\n",
    "    ax[i//3,i%3].set_title(key)\n",
    "    ax[i//3,i%3].set_xlabel('')\n",
    "    i+=1\n",
    "plt.tight_layout()\n",
    "plt.show()"
   ]
  },
  {
   "cell_type": "code",
   "execution_count": 42,
   "id": "automated-spouse",
   "metadata": {},
   "outputs": [],
   "source": [
    "def check_outlier(cat_dict):\n",
    "    for key, vals in cat_dict.items():\n",
    "        q1 = vals.quantile(0.75)\n",
    "        q3 = vals.quantile(0.25)\n",
    "        iqr = (q1 - q3)*1.5\n",
    "        upper = q1 + iqr\n",
    "        lower = q3 - iqr if (q3 - iqr) > 0 else q3\n",
    "        vals = [val if val<upper else upper for val in vals]\n",
    "        vals = [val if val>lower else lower for val in vals]\n",
    "        cat_dict[key] = vals\n",
    "    return cat_dict"
   ]
  },
  {
   "cell_type": "code",
   "execution_count": 43,
   "id": "binding-adult",
   "metadata": {},
   "outputs": [],
   "source": [
    "item_cat_price_cleaned = check_outlier(item_cat_price)"
   ]
  },
  {
   "cell_type": "code",
   "execution_count": null,
   "id": "executive-tackle",
   "metadata": {},
   "outputs": [],
   "source": []
  },
  {
   "cell_type": "code",
   "execution_count": 44,
   "id": "remarkable-tracy",
   "metadata": {},
   "outputs": [
    {
     "data": {
      "image/png": "[encoded data removed]",
      "text/plain": [
       "<Figure size 864x432 with 6 Axes>"
      ]
     },
     "metadata": {},
     "output_type": "display_data"
    }
   ],
   "source": [
    "sns.set(font_scale=1.2)\n",
    "fig, ax = plt.subplots(2,3, figsize=(12,6))\n",
    "i = 0\n",
    "for key, vals in item_cat_price_cleaned.items():\n",
    "    ax[i//3,i%3].boxplot(vals, showmeans=True, notch=True)\n",
    "    ax[i//3,i%3].set_title(key)\n",
    "    i+=1\n",
    "plt.tight_layout()\n",
    "plt.show()"
   ]
  },
  {
   "cell_type": "code",
   "execution_count": 75,
   "id": "olive-container",
   "metadata": {},
   "outputs": [
    {
     "data": {
      "image/png": "[encoded data removed]",
      "text/plain": [
       "<Figure size 576x576 with 6 Axes>"
      ]
     },
     "metadata": {},
     "output_type": "display_data"
    }
   ],
   "source": [
    "'''\n",
    "cat_ID_361254 - cat_ID_201436\n",
    "cat_ID_361254 - cat_ID_675201\n",
    "cat_ID_874521 - cat_ID_201436\n",
    "cat_ID_874521 - cat_ID_675201\n",
    "cat_ID_675201 - cat_ID_201436\n",
    "'''\n",
    "\n",
    "fig, ax = plt.subplots(3,2, figsize=(8,8))\n",
    "\n",
    "ax[0,0].boxplot([item_cat_price_cleaned['cat_ID_201436'], item_cat_price_cleaned['cat_ID_361254']], showmeans=True, notch=True)\n",
    "ax[0,0].set_title('cat_ID_201436 - cat_ID_361254')\n",
    "\n",
    "ax[0,1].boxplot([item_cat_price_cleaned['cat_ID_361254'], item_cat_price_cleaned['cat_ID_675201']], showmeans=True, notch=True)\n",
    "ax[0,1].set_title('cat_ID_361254 - cat_ID_675201')\n",
    "\n",
    "ax[1,0].boxplot([item_cat_price_cleaned['cat_ID_874521'], item_cat_price_cleaned['cat_ID_201436']], showmeans=True, notch=True)\n",
    "ax[1,0].set_title('cat_ID_874521 - cat_ID_201436')\n",
    "\n",
    "ax[1,1].boxplot([item_cat_price_cleaned['cat_ID_874521'], item_cat_price_cleaned['cat_ID_675201']], showmeans=True, notch=True)\n",
    "ax[1,1].set_title('cat_ID_874521 - cat_ID_675201')\n",
    "\n",
    "ax[2,0].boxplot([item_cat_price_cleaned['cat_ID_675201'], item_cat_price_cleaned['cat_ID_201436']], showmeans=True, notch=True)\n",
    "ax[2,0].set_title('cat_ID_675201 - cat_ID_201436')\n",
    "\n",
    "plt.tight_layout()\n",
    "plt.show()"
   ]
  },
  {
   "cell_type": "code",
   "execution_count": 51,
   "id": "signal-framework",
   "metadata": {},
   "outputs": [],
   "source": [
    "from scipy.stats import shapiro, levene, ttest_ind, mannwhitneyu\n",
    "def stat_matrix_shapiro(item_cat_price_dict):\n",
    "    keys = item_cat_price_dict.keys()\n",
    "    shapiro_list = []\n",
    "    for key in keys:\n",
    "        test_val, p_val_shapiro_ = shapiro(item_cat_price_dict[key])\n",
    "        shapiro_list.append(p_val_shapiro_)\n",
    "    return print(shapiro_list)"
   ]
  },
  {
   "cell_type": "code",
   "execution_count": 52,
   "id": "first-instrument",
   "metadata": {},
   "outputs": [
    {
     "name": "stdout",
     "output_type": "stream",
     "text": [
      "[7.24050916516633e-42, 4.479218689138561e-19, 8.517599283119523e-27, 1.7989810894214128e-14, 1.4115332166997341e-11, 2.6402515729273546e-08]\n"
     ]
    }
   ],
   "source": [
    "df_stats_shapiro = stat_matrix_shapiro(item_cat_price_cleaned)\n",
    "df_stats_shapiro"
   ]
  },
  {
   "cell_type": "code",
   "execution_count": 53,
   "id": "vocal-honor",
   "metadata": {},
   "outputs": [
    {
     "data": {
      "text/html": [
       "<div>\n",
       "<style scoped>\n",
       "    .dataframe tbody tr th:only-of-type {\n",
       "        vertical-align: middle;\n",
       "    }\n",
       "\n",
       "    .dataframe tbody tr th {\n",
       "        vertical-align: top;\n",
       "    }\n",
       "\n",
       "    .dataframe thead th {\n",
       "        text-align: right;\n",
       "    }\n",
       "</style>\n",
       "<table border=\"1\" class=\"dataframe\">\n",
       "  <thead>\n",
       "    <tr style=\"text-align: right;\">\n",
       "      <th></th>\n",
       "      <th>shapiro p-value</th>\n",
       "    </tr>\n",
       "  </thead>\n",
       "  <tbody>\n",
       "    <tr>\n",
       "      <th>cat_ID_489756</th>\n",
       "      <td>0.0000</td>\n",
       "    </tr>\n",
       "    <tr>\n",
       "      <th>cat_ID_361254</th>\n",
       "      <td>0.0000</td>\n",
       "    </tr>\n",
       "    <tr>\n",
       "      <th>cat_ID_874521</th>\n",
       "      <td>0.0000</td>\n",
       "    </tr>\n",
       "    <tr>\n",
       "      <th>cat_ID_326584</th>\n",
       "      <td>0.0000</td>\n",
       "    </tr>\n",
       "    <tr>\n",
       "      <th>cat_ID_675201</th>\n",
       "      <td>0.0000</td>\n",
       "    </tr>\n",
       "    <tr>\n",
       "      <th>cat_ID_201436</th>\n",
       "      <td>0.0000</td>\n",
       "    </tr>\n",
       "  </tbody>\n",
       "</table>\n",
       "</div>"
      ],
      "text/plain": [
       "               shapiro p-value\n",
       "cat_ID_489756           0.0000\n",
       "cat_ID_361254           0.0000\n",
       "cat_ID_874521           0.0000\n",
       "cat_ID_326584           0.0000\n",
       "cat_ID_675201           0.0000\n",
       "cat_ID_201436           0.0000"
      ]
     },
     "execution_count": 53,
     "metadata": {},
     "output_type": "execute_result"
    }
   ],
   "source": [
    "dataset['shapiro p-value'] = [7.24050916516633e-42, 4.479218689138561e-19, 8.517599283119523e-27, 1.7989810894214128e-14, 1.4115332166997341e-11, 2.6402515729273546e-08]\n",
    "dataset[['shapiro p-value']]"
   ]
  },
  {
   "cell_type": "code",
   "execution_count": null,
   "id": "still-terminology",
   "metadata": {},
   "outputs": [],
   "source": []
  },
  {
   "cell_type": "code",
   "execution_count": 122,
   "id": "allied-judge",
   "metadata": {},
   "outputs": [
    {
     "data": {
      "text/plain": [
       "34.8919456414"
      ]
     },
     "execution_count": 122,
     "metadata": {},
     "output_type": "execute_result"
    }
   ],
   "source": [
    "np.median(item_cat_price_cleaned['cat_ID_489756'] + item_cat_price_cleaned['cat_ID_361254'] + item_cat_price_cleaned['cat_ID_874521'])"
   ]
  },
  {
   "cell_type": "code",
   "execution_count": 123,
   "id": "sustained-democrat",
   "metadata": {},
   "outputs": [
    {
     "data": {
      "text/plain": [
       "(34.40085974065, 34.45919482955, 35.635784234)"
      ]
     },
     "execution_count": 123,
     "metadata": {},
     "output_type": "execute_result"
    }
   ],
   "source": [
    "np.median(item_cat_price_cleaned['cat_ID_874521']), np.median(item_cat_price_cleaned['cat_ID_361254']), np.median(item_cat_price_cleaned['cat_ID_489756'])"
   ]
  },
  {
   "cell_type": "code",
   "execution_count": 120,
   "id": "owned-science",
   "metadata": {},
   "outputs": [
    {
     "data": {
      "text/plain": [
       "33.0197740113"
      ]
     },
     "execution_count": 120,
     "metadata": {},
     "output_type": "execute_result"
    }
   ],
   "source": [
    "np.median(item_cat_price_cleaned['cat_ID_201436'] + item_cat_price_cleaned['cat_ID_675201'] + item_cat_price_cleaned['cat_ID_326584'])"
   ]
  },
  {
   "cell_type": "code",
   "execution_count": 121,
   "id": "secure-fleece",
   "metadata": {},
   "outputs": [
    {
     "data": {
      "text/plain": [
       "(33.5346779682, 33.8355657107, 31.7482419128)"
      ]
     },
     "execution_count": 121,
     "metadata": {},
     "output_type": "execute_result"
    }
   ],
   "source": [
    "np.median(item_cat_price_cleaned['cat_ID_201436']),  np.median(item_cat_price_cleaned['cat_ID_675201']), np.median(item_cat_price_cleaned['cat_ID_326584'])"
   ]
  },
  {
   "cell_type": "code",
   "execution_count": 77,
   "id": "sweet-extraction",
   "metadata": {},
   "outputs": [
    {
     "data": {
      "text/plain": [
       "[35.635784234,\n",
       " 34.45919482955,\n",
       " 34.40085974065,\n",
       " 31.7482419128,\n",
       " 33.8355657107,\n",
       " 33.5346779682]"
      ]
     },
     "execution_count": 77,
     "metadata": {},
     "output_type": "execute_result"
    }
   ],
   "source": [
    "[np.median(item_cat_price_cleaned[key]) for key in item_cat_price_cleaned.keys()]"
   ]
  },
  {
   "cell_type": "code",
   "execution_count": null,
   "id": "express-matrix",
   "metadata": {},
   "outputs": [],
   "source": [
    "rp.summary_cont(df[[\"total_bill\",\"tip\",\"size\"]])"
   ]
  },
  {
   "cell_type": "code",
   "execution_count": 138,
   "id": "medical-grill",
   "metadata": {},
   "outputs": [],
   "source": [
    "data1 = item_cat_price_cleaned['cat_ID_489756'] + item_cat_price_cleaned['cat_ID_361254'] + item_cat_price_cleaned['cat_ID_874521']\n",
    "data2 = item_cat_price_cleaned['cat_ID_201436'] + item_cat_price_cleaned['cat_ID_675201'] + item_cat_price_cleaned['cat_ID_326584']\n",
    "df_group1 = pd.DataFrame(data =data1,  columns=['group1'] )\n",
    "df_group2 = pd.DataFrame(data =data2, columns=['group2'] )"
   ]
  },
  {
   "cell_type": "code",
   "execution_count": 139,
   "id": "human-pursuit",
   "metadata": {},
   "outputs": [
    {
     "name": "stdout",
     "output_type": "stream",
     "text": [
      "\n",
      "\n"
     ]
    },
    {
     "data": {
      "text/html": [
       "<div>\n",
       "<style scoped>\n",
       "    .dataframe tbody tr th:only-of-type {\n",
       "        vertical-align: middle;\n",
       "    }\n",
       "\n",
       "    .dataframe tbody tr th {\n",
       "        vertical-align: top;\n",
       "    }\n",
       "\n",
       "    .dataframe thead th {\n",
       "        text-align: right;\n",
       "    }\n",
       "</style>\n",
       "<table border=\"1\" class=\"dataframe\">\n",
       "  <thead>\n",
       "    <tr style=\"text-align: right;\">\n",
       "      <th></th>\n",
       "      <th>Variable</th>\n",
       "      <th>N</th>\n",
       "      <th>Mean</th>\n",
       "      <th>SD</th>\n",
       "      <th>SE</th>\n",
       "      <th>95% Conf.</th>\n",
       "      <th>Interval</th>\n",
       "    </tr>\n",
       "  </thead>\n",
       "  <tbody>\n",
       "    <tr>\n",
       "      <th>0</th>\n",
       "      <td>group1</td>\n",
       "      <td>3075.0000</td>\n",
       "      <td>38.8233</td>\n",
       "      <td>10.8000</td>\n",
       "      <td>0.1948</td>\n",
       "      <td>38.4414</td>\n",
       "      <td>39.2052</td>\n",
       "    </tr>\n",
       "  </tbody>\n",
       "</table>\n",
       "</div>"
      ],
      "text/plain": [
       "  Variable         N    Mean      SD     SE  95% Conf.  Interval\n",
       "0   group1 3075.0000 38.8233 10.8000 0.1948    38.4414   39.2052"
      ]
     },
     "execution_count": 139,
     "metadata": {},
     "output_type": "execute_result"
    }
   ],
   "source": [
    "rp.summary_cont(df_group1)"
   ]
  },
  {
   "cell_type": "code",
   "execution_count": 140,
   "id": "responsible-documentation",
   "metadata": {},
   "outputs": [
    {
     "name": "stdout",
     "output_type": "stream",
     "text": [
      "\n",
      "\n"
     ]
    },
    {
     "data": {
      "text/html": [
       "<div>\n",
       "<style scoped>\n",
       "    .dataframe tbody tr th:only-of-type {\n",
       "        vertical-align: middle;\n",
       "    }\n",
       "\n",
       "    .dataframe tbody tr th {\n",
       "        vertical-align: top;\n",
       "    }\n",
       "\n",
       "    .dataframe thead th {\n",
       "        text-align: right;\n",
       "    }\n",
       "</style>\n",
       "<table border=\"1\" class=\"dataframe\">\n",
       "  <thead>\n",
       "    <tr style=\"text-align: right;\">\n",
       "      <th></th>\n",
       "      <th>Variable</th>\n",
       "      <th>N</th>\n",
       "      <th>Mean</th>\n",
       "      <th>SD</th>\n",
       "      <th>SE</th>\n",
       "      <th>95% Conf.</th>\n",
       "      <th>Interval</th>\n",
       "    </tr>\n",
       "  </thead>\n",
       "  <tbody>\n",
       "    <tr>\n",
       "      <th>0</th>\n",
       "      <td>group2</td>\n",
       "      <td>373.0000</td>\n",
       "      <td>34.4289</td>\n",
       "      <td>4.7009</td>\n",
       "      <td>0.2434</td>\n",
       "      <td>33.9503</td>\n",
       "      <td>34.9076</td>\n",
       "    </tr>\n",
       "  </tbody>\n",
       "</table>\n",
       "</div>"
      ],
      "text/plain": [
       "  Variable        N    Mean     SD     SE  95% Conf.  Interval\n",
       "0   group2 373.0000 34.4289 4.7009 0.2434    33.9503   34.9076"
      ]
     },
     "execution_count": 140,
     "metadata": {},
     "output_type": "execute_result"
    }
   ],
   "source": [
    "rp.summary_cont(df_group2)"
   ]
  },
  {
   "cell_type": "code",
   "execution_count": null,
   "id": "silent-increase",
   "metadata": {},
   "outputs": [],
   "source": []
  },
  {
   "cell_type": "code",
   "execution_count": 148,
   "id": "velvet-tooth",
   "metadata": {},
   "outputs": [
    {
     "name": "stdout",
     "output_type": "stream",
     "text": [
      "median :  34.8919456414\n",
      "34.51007279909752\n",
      "35.27381848370248\n"
     ]
    }
   ],
   "source": [
    "from scipy.stats import sem, t\n",
    "confidence = 0.95\n",
    "data = data1\n",
    "\n",
    "n = len(data)\n",
    "m = np.median(data)\n",
    "print('median : ', m)\n",
    "std_err = sem(data)\n",
    "h = std_err * t.ppf((1 + confidence) / 2, n - 1)\n",
    "\n",
    "start = m - h\n",
    "print (start)\n",
    "\n",
    "#1.03675683852\n",
    "end = m + h\n",
    "print(end)"
   ]
  },
  {
   "cell_type": "code",
   "execution_count": 147,
   "id": "ecological-bouquet",
   "metadata": {},
   "outputs": [
    {
     "name": "stdout",
     "output_type": "stream",
     "text": [
      "median :  33.0197740113\n",
      "32.541153791181436\n",
      "33.498394231418565\n"
     ]
    }
   ],
   "source": [
    "from scipy.stats import sem, t\n",
    "confidence = 0.95\n",
    "data = data2\n",
    "\n",
    "n = len(data)\n",
    "m = np.median(data)\n",
    "print('median : ', m)\n",
    "std_err = sem(data)\n",
    "h = std_err * t.ppf((1 + confidence) / 2, n - 1)\n",
    "\n",
    "start = m - h\n",
    "print (start)\n",
    "\n",
    "#1.03675683852\n",
    "end = m + h\n",
    "print(end)"
   ]
  },
  {
   "cell_type": "code",
   "execution_count": null,
   "id": "cooked-broad",
   "metadata": {},
   "outputs": [],
   "source": [
    "()"
   ]
  },
  {
   "cell_type": "code",
   "execution_count": null,
   "id": "likely-customer",
   "metadata": {},
   "outputs": [],
   "source": []
  },
  {
   "cell_type": "code",
   "execution_count": null,
   "id": "lucky-sodium",
   "metadata": {},
   "outputs": [],
   "source": []
  },
  {
   "cell_type": "code",
   "execution_count": 93,
   "id": "raising-portugal",
   "metadata": {},
   "outputs": [
    {
     "data": {
      "text/html": [
       "<div>\n",
       "<style scoped>\n",
       "    .dataframe tbody tr th:only-of-type {\n",
       "        vertical-align: middle;\n",
       "    }\n",
       "\n",
       "    .dataframe tbody tr th {\n",
       "        vertical-align: top;\n",
       "    }\n",
       "\n",
       "    .dataframe thead th {\n",
       "        text-align: right;\n",
       "    }\n",
       "</style>\n",
       "<table border=\"1\" class=\"dataframe\">\n",
       "  <thead>\n",
       "    <tr style=\"text-align: right;\">\n",
       "      <th></th>\n",
       "      <th>Number of price</th>\n",
       "      <th>Median Price</th>\n",
       "      <th>Mean Price</th>\n",
       "    </tr>\n",
       "  </thead>\n",
       "  <tbody>\n",
       "    <tr>\n",
       "      <th>cat_ID_489756</th>\n",
       "      <td>1705</td>\n",
       "      <td>35.6358</td>\n",
       "      <td>41.8763</td>\n",
       "    </tr>\n",
       "    <tr>\n",
       "      <th>cat_ID_361254</th>\n",
       "      <td>620</td>\n",
       "      <td>34.4592</td>\n",
       "      <td>34.0559</td>\n",
       "    </tr>\n",
       "    <tr>\n",
       "      <th>cat_ID_874521</th>\n",
       "      <td>750</td>\n",
       "      <td>34.4009</td>\n",
       "      <td>35.8238</td>\n",
       "    </tr>\n",
       "    <tr>\n",
       "      <th>cat_ID_326584</th>\n",
       "      <td>145</td>\n",
       "      <td>31.7482</td>\n",
       "      <td>33.3602</td>\n",
       "    </tr>\n",
       "    <tr>\n",
       "      <th>cat_ID_675201</th>\n",
       "      <td>131</td>\n",
       "      <td>33.8356</td>\n",
       "      <td>35.5229</td>\n",
       "    </tr>\n",
       "    <tr>\n",
       "      <th>cat_ID_201436</th>\n",
       "      <td>97</td>\n",
       "      <td>33.5347</td>\n",
       "      <td>34.5491</td>\n",
       "    </tr>\n",
       "  </tbody>\n",
       "</table>\n",
       "</div>"
      ],
      "text/plain": [
       "               Number of price  Median Price  Mean Price\n",
       "cat_ID_489756             1705       35.6358     41.8763\n",
       "cat_ID_361254              620       34.4592     34.0559\n",
       "cat_ID_874521              750       34.4009     35.8238\n",
       "cat_ID_326584              145       31.7482     33.3602\n",
       "cat_ID_675201              131       33.8356     35.5229\n",
       "cat_ID_201436               97       33.5347     34.5491"
      ]
     },
     "execution_count": 93,
     "metadata": {},
     "output_type": "execute_result"
    }
   ],
   "source": [
    "dataset['Median Price'] = [np.median(item_cat_price_cleaned[key]) for key in item_cat_price_cleaned.keys()]\n",
    "dataset['Mean Price'] = [np.mean(item_cat_price_cleaned[key]) for key in item_cat_price_cleaned.keys()]\n",
    "dataset[['Number of price', 'Median Price', 'Mean Price']]"
   ]
  },
  {
   "cell_type": "code",
   "execution_count": 90,
   "id": "durable-hopkins",
   "metadata": {},
   "outputs": [
    {
     "data": {
      "text/html": [
       "<div>\n",
       "<style scoped>\n",
       "    .dataframe tbody tr th:only-of-type {\n",
       "        vertical-align: middle;\n",
       "    }\n",
       "\n",
       "    .dataframe tbody tr th {\n",
       "        vertical-align: top;\n",
       "    }\n",
       "\n",
       "    .dataframe thead th {\n",
       "        text-align: right;\n",
       "    }\n",
       "</style>\n",
       "<table border=\"1\" class=\"dataframe\">\n",
       "  <thead>\n",
       "    <tr style=\"text-align: right;\">\n",
       "      <th></th>\n",
       "      <th>Number of price</th>\n",
       "      <th>shapiro p-value</th>\n",
       "      <th>Median Price</th>\n",
       "      <th>Mean Price</th>\n",
       "    </tr>\n",
       "  </thead>\n",
       "  <tbody>\n",
       "    <tr>\n",
       "      <th>cat_ID_489756</th>\n",
       "      <td>1705</td>\n",
       "      <td>0.0000</td>\n",
       "      <td>35.6358</td>\n",
       "      <td>41.8763</td>\n",
       "    </tr>\n",
       "    <tr>\n",
       "      <th>cat_ID_361254</th>\n",
       "      <td>620</td>\n",
       "      <td>0.0000</td>\n",
       "      <td>34.4592</td>\n",
       "      <td>34.0559</td>\n",
       "    </tr>\n",
       "    <tr>\n",
       "      <th>cat_ID_874521</th>\n",
       "      <td>750</td>\n",
       "      <td>0.0000</td>\n",
       "      <td>34.4009</td>\n",
       "      <td>35.8238</td>\n",
       "    </tr>\n",
       "    <tr>\n",
       "      <th>cat_ID_326584</th>\n",
       "      <td>145</td>\n",
       "      <td>0.0000</td>\n",
       "      <td>31.7482</td>\n",
       "      <td>33.3602</td>\n",
       "    </tr>\n",
       "    <tr>\n",
       "      <th>cat_ID_675201</th>\n",
       "      <td>131</td>\n",
       "      <td>0.0000</td>\n",
       "      <td>33.8356</td>\n",
       "      <td>35.5229</td>\n",
       "    </tr>\n",
       "    <tr>\n",
       "      <th>cat_ID_201436</th>\n",
       "      <td>97</td>\n",
       "      <td>0.0000</td>\n",
       "      <td>33.5347</td>\n",
       "      <td>34.5491</td>\n",
       "    </tr>\n",
       "  </tbody>\n",
       "</table>\n",
       "</div>"
      ],
      "text/plain": [
       "               Number of price  shapiro p-value  Median Price  Mean Price\n",
       "cat_ID_489756             1705           0.0000       35.6358     41.8763\n",
       "cat_ID_361254              620           0.0000       34.4592     34.0559\n",
       "cat_ID_874521              750           0.0000       34.4009     35.8238\n",
       "cat_ID_326584              145           0.0000       31.7482     33.3602\n",
       "cat_ID_675201              131           0.0000       33.8356     35.5229\n",
       "cat_ID_201436               97           0.0000       33.5347     34.5491"
      ]
     },
     "execution_count": 90,
     "metadata": {},
     "output_type": "execute_result"
    }
   ],
   "source": [
    "dataset\n",
    "#dataset.drop('Meen Price', inplace=True, axis=1)"
   ]
  },
  {
   "cell_type": "code",
   "execution_count": 54,
   "id": "variable-expert",
   "metadata": {},
   "outputs": [],
   "source": [
    "def stat_matrix_levene(item_cat_price_dict):\n",
    "    keys = item_cat_price_dict.keys()\n",
    "    df_levene_matrix = pd.DataFrame(columns=keys)\n",
    "    for key1 in keys:\n",
    "        for key2 in keys:\n",
    "            if key1 == key2:\n",
    "                p_val_levene = 0.0\n",
    "            else:\n",
    "                test_val, p_val_levene = levene(item_cat_price_dict[key1], item_cat_price_dict[key2])\n",
    "            df_levene_matrix.loc[key1, key2] = p_val_levene\n",
    "    return df_levene_matrix"
   ]
  },
  {
   "cell_type": "code",
   "execution_count": 55,
   "id": "suspected-supply",
   "metadata": {},
   "outputs": [
    {
     "data": {
      "text/html": [
       "<div>\n",
       "<style scoped>\n",
       "    .dataframe tbody tr th:only-of-type {\n",
       "        vertical-align: middle;\n",
       "    }\n",
       "\n",
       "    .dataframe tbody tr th {\n",
       "        vertical-align: top;\n",
       "    }\n",
       "\n",
       "    .dataframe thead th {\n",
       "        text-align: right;\n",
       "    }\n",
       "</style>\n",
       "<table border=\"1\" class=\"dataframe\">\n",
       "  <thead>\n",
       "    <tr style=\"text-align: right;\">\n",
       "      <th></th>\n",
       "      <th>cat_ID_489756</th>\n",
       "      <th>cat_ID_361254</th>\n",
       "      <th>cat_ID_874521</th>\n",
       "      <th>cat_ID_326584</th>\n",
       "      <th>cat_ID_675201</th>\n",
       "      <th>cat_ID_201436</th>\n",
       "    </tr>\n",
       "  </thead>\n",
       "  <tbody>\n",
       "    <tr>\n",
       "      <th>cat_ID_489756</th>\n",
       "      <td>0.0000</td>\n",
       "      <td>0.0000</td>\n",
       "      <td>0.0000</td>\n",
       "      <td>0.0000</td>\n",
       "      <td>0.0000</td>\n",
       "      <td>0.0000</td>\n",
       "    </tr>\n",
       "    <tr>\n",
       "      <th>cat_ID_361254</th>\n",
       "      <td>0.0000</td>\n",
       "      <td>0.0000</td>\n",
       "      <td>0.0000</td>\n",
       "      <td>0.0000</td>\n",
       "      <td>0.0000</td>\n",
       "      <td>0.0003</td>\n",
       "    </tr>\n",
       "    <tr>\n",
       "      <th>cat_ID_874521</th>\n",
       "      <td>0.0000</td>\n",
       "      <td>0.0000</td>\n",
       "      <td>0.0000</td>\n",
       "      <td>0.0015</td>\n",
       "      <td>0.4033</td>\n",
       "      <td>0.0040</td>\n",
       "    </tr>\n",
       "    <tr>\n",
       "      <th>cat_ID_326584</th>\n",
       "      <td>0.0000</td>\n",
       "      <td>0.0000</td>\n",
       "      <td>0.0015</td>\n",
       "      <td>0.0000</td>\n",
       "      <td>0.0485</td>\n",
       "      <td>0.8169</td>\n",
       "    </tr>\n",
       "    <tr>\n",
       "      <th>cat_ID_675201</th>\n",
       "      <td>0.0000</td>\n",
       "      <td>0.0000</td>\n",
       "      <td>0.4033</td>\n",
       "      <td>0.0485</td>\n",
       "      <td>0.0000</td>\n",
       "      <td>0.0433</td>\n",
       "    </tr>\n",
       "    <tr>\n",
       "      <th>cat_ID_201436</th>\n",
       "      <td>0.0000</td>\n",
       "      <td>0.0003</td>\n",
       "      <td>0.0040</td>\n",
       "      <td>0.8169</td>\n",
       "      <td>0.0433</td>\n",
       "      <td>0.0000</td>\n",
       "    </tr>\n",
       "  </tbody>\n",
       "</table>\n",
       "</div>"
      ],
      "text/plain": [
       "              cat_ID_489756 cat_ID_361254 cat_ID_874521 cat_ID_326584  \\\n",
       "cat_ID_489756        0.0000        0.0000        0.0000        0.0000   \n",
       "cat_ID_361254        0.0000        0.0000        0.0000        0.0000   \n",
       "cat_ID_874521        0.0000        0.0000        0.0000        0.0015   \n",
       "cat_ID_326584        0.0000        0.0000        0.0015        0.0000   \n",
       "cat_ID_675201        0.0000        0.0000        0.4033        0.0485   \n",
       "cat_ID_201436        0.0000        0.0003        0.0040        0.8169   \n",
       "\n",
       "              cat_ID_675201 cat_ID_201436  \n",
       "cat_ID_489756        0.0000        0.0000  \n",
       "cat_ID_361254        0.0000        0.0003  \n",
       "cat_ID_874521        0.4033        0.0040  \n",
       "cat_ID_326584        0.0485        0.8169  \n",
       "cat_ID_675201        0.0000        0.0433  \n",
       "cat_ID_201436        0.0433        0.0000  "
      ]
     },
     "execution_count": 55,
     "metadata": {},
     "output_type": "execute_result"
    }
   ],
   "source": [
    "df_stats_levene = stat_matrix_levene(item_cat_price_cleaned)\n",
    "df_stats_levene"
   ]
  },
  {
   "cell_type": "code",
   "execution_count": 56,
   "id": "satisfied-chamber",
   "metadata": {},
   "outputs": [],
   "source": [
    "def stat_matrix_ttest_ind(item_cat_price_dict):\n",
    "    keys = item_cat_price_dict.keys()\n",
    "    df_ttest_matrix = pd.DataFrame(columns=keys)\n",
    "    for key1 in keys:\n",
    "        for key2 in keys:\n",
    "            if key1 == key2:\n",
    "                p_val_ttest = 0.0\n",
    "            else:\n",
    "                test_val, p_val_ttest = ttest_ind(item_cat_price_dict[key1], item_cat_price_dict[key2])\n",
    "            df_ttest_matrix.loc[key1, key2] = p_val_ttest\n",
    "    return df_ttest_matrix"
   ]
  },
  {
   "cell_type": "code",
   "execution_count": 57,
   "id": "framed-lancaster",
   "metadata": {},
   "outputs": [
    {
     "data": {
      "text/html": [
       "<div>\n",
       "<style scoped>\n",
       "    .dataframe tbody tr th:only-of-type {\n",
       "        vertical-align: middle;\n",
       "    }\n",
       "\n",
       "    .dataframe tbody tr th {\n",
       "        vertical-align: top;\n",
       "    }\n",
       "\n",
       "    .dataframe thead th {\n",
       "        text-align: right;\n",
       "    }\n",
       "</style>\n",
       "<table border=\"1\" class=\"dataframe\">\n",
       "  <thead>\n",
       "    <tr style=\"text-align: right;\">\n",
       "      <th></th>\n",
       "      <th>cat_ID_489756</th>\n",
       "      <th>cat_ID_361254</th>\n",
       "      <th>cat_ID_874521</th>\n",
       "      <th>cat_ID_326584</th>\n",
       "      <th>cat_ID_675201</th>\n",
       "      <th>cat_ID_201436</th>\n",
       "    </tr>\n",
       "  </thead>\n",
       "  <tbody>\n",
       "    <tr>\n",
       "      <th>cat_ID_489756</th>\n",
       "      <td>0.0000</td>\n",
       "      <td>0.0000</td>\n",
       "      <td>0.0000</td>\n",
       "      <td>0.0000</td>\n",
       "      <td>0.0000</td>\n",
       "      <td>0.0000</td>\n",
       "    </tr>\n",
       "    <tr>\n",
       "      <th>cat_ID_361254</th>\n",
       "      <td>0.0000</td>\n",
       "      <td>0.0000</td>\n",
       "      <td>0.0000</td>\n",
       "      <td>0.0194</td>\n",
       "      <td>0.0000</td>\n",
       "      <td>0.1457</td>\n",
       "    </tr>\n",
       "    <tr>\n",
       "      <th>cat_ID_874521</th>\n",
       "      <td>0.0000</td>\n",
       "      <td>0.0000</td>\n",
       "      <td>0.0000</td>\n",
       "      <td>0.0000</td>\n",
       "      <td>0.5869</td>\n",
       "      <td>0.0399</td>\n",
       "    </tr>\n",
       "    <tr>\n",
       "      <th>cat_ID_326584</th>\n",
       "      <td>0.0000</td>\n",
       "      <td>0.0194</td>\n",
       "      <td>0.0000</td>\n",
       "      <td>0.0000</td>\n",
       "      <td>0.0002</td>\n",
       "      <td>0.0301</td>\n",
       "    </tr>\n",
       "    <tr>\n",
       "      <th>cat_ID_675201</th>\n",
       "      <td>0.0000</td>\n",
       "      <td>0.0000</td>\n",
       "      <td>0.5869</td>\n",
       "      <td>0.0002</td>\n",
       "      <td>0.0000</td>\n",
       "      <td>0.1351</td>\n",
       "    </tr>\n",
       "    <tr>\n",
       "      <th>cat_ID_201436</th>\n",
       "      <td>0.0000</td>\n",
       "      <td>0.1457</td>\n",
       "      <td>0.0399</td>\n",
       "      <td>0.0301</td>\n",
       "      <td>0.1351</td>\n",
       "      <td>0.0000</td>\n",
       "    </tr>\n",
       "  </tbody>\n",
       "</table>\n",
       "</div>"
      ],
      "text/plain": [
       "              cat_ID_489756 cat_ID_361254 cat_ID_874521 cat_ID_326584  \\\n",
       "cat_ID_489756        0.0000        0.0000        0.0000        0.0000   \n",
       "cat_ID_361254        0.0000        0.0000        0.0000        0.0194   \n",
       "cat_ID_874521        0.0000        0.0000        0.0000        0.0000   \n",
       "cat_ID_326584        0.0000        0.0194        0.0000        0.0000   \n",
       "cat_ID_675201        0.0000        0.0000        0.5869        0.0002   \n",
       "cat_ID_201436        0.0000        0.1457        0.0399        0.0301   \n",
       "\n",
       "              cat_ID_675201 cat_ID_201436  \n",
       "cat_ID_489756        0.0000        0.0000  \n",
       "cat_ID_361254        0.0000        0.1457  \n",
       "cat_ID_874521        0.5869        0.0399  \n",
       "cat_ID_326584        0.0002        0.0301  \n",
       "cat_ID_675201        0.0000        0.1351  \n",
       "cat_ID_201436        0.1351        0.0000  "
      ]
     },
     "execution_count": 57,
     "metadata": {},
     "output_type": "execute_result"
    }
   ],
   "source": [
    "matrix_ttest = stat_matrix_ttest_ind(item_cat_price_cleaned)\n",
    "matrix_ttest"
   ]
  },
  {
   "cell_type": "code",
   "execution_count": 58,
   "id": "invalid-conjunction",
   "metadata": {},
   "outputs": [],
   "source": [
    "def stat_matrix_mannwhitneyu(item_cat_price_dict):\n",
    "    keys = item_cat_price_dict.keys()\n",
    "    df_mann_matrix = pd.DataFrame(columns=keys)\n",
    "    for key1 in keys:\n",
    "        for key2 in keys:\n",
    "            if key1 == key2:\n",
    "                p_val_mann = 0.0\n",
    "            else:\n",
    "                test_val, p_val_mann = mannwhitneyu(item_cat_price_dict[key1], item_cat_price_dict[key2])\n",
    "            df_mann_matrix.loc[key1, key2] = p_val_mann\n",
    "    return df_mann_matrix"
   ]
  },
  {
   "cell_type": "code",
   "execution_count": 59,
   "id": "following-disorder",
   "metadata": {},
   "outputs": [
    {
     "data": {
      "text/html": [
       "<div>\n",
       "<style scoped>\n",
       "    .dataframe tbody tr th:only-of-type {\n",
       "        vertical-align: middle;\n",
       "    }\n",
       "\n",
       "    .dataframe tbody tr th {\n",
       "        vertical-align: top;\n",
       "    }\n",
       "\n",
       "    .dataframe thead th {\n",
       "        text-align: right;\n",
       "    }\n",
       "</style>\n",
       "<table border=\"1\" class=\"dataframe\">\n",
       "  <thead>\n",
       "    <tr style=\"text-align: right;\">\n",
       "      <th></th>\n",
       "      <th>cat_ID_489756</th>\n",
       "      <th>cat_ID_361254</th>\n",
       "      <th>cat_ID_874521</th>\n",
       "      <th>cat_ID_326584</th>\n",
       "      <th>cat_ID_675201</th>\n",
       "      <th>cat_ID_201436</th>\n",
       "    </tr>\n",
       "  </thead>\n",
       "  <tbody>\n",
       "    <tr>\n",
       "      <th>cat_ID_489756</th>\n",
       "      <td>0.0000</td>\n",
       "      <td>0.0000</td>\n",
       "      <td>0.0000</td>\n",
       "      <td>0.0000</td>\n",
       "      <td>0.0000</td>\n",
       "      <td>0.0000</td>\n",
       "    </tr>\n",
       "    <tr>\n",
       "      <th>cat_ID_361254</th>\n",
       "      <td>0.0000</td>\n",
       "      <td>0.0000</td>\n",
       "      <td>0.0054</td>\n",
       "      <td>0.0000</td>\n",
       "      <td>0.2115</td>\n",
       "      <td>0.3803</td>\n",
       "    </tr>\n",
       "    <tr>\n",
       "      <th>cat_ID_874521</th>\n",
       "      <td>0.0000</td>\n",
       "      <td>0.0054</td>\n",
       "      <td>0.0000</td>\n",
       "      <td>0.0000</td>\n",
       "      <td>0.1700</td>\n",
       "      <td>0.0975</td>\n",
       "    </tr>\n",
       "    <tr>\n",
       "      <th>cat_ID_326584</th>\n",
       "      <td>0.0000</td>\n",
       "      <td>0.0000</td>\n",
       "      <td>0.0000</td>\n",
       "      <td>0.0000</td>\n",
       "      <td>0.0000</td>\n",
       "      <td>0.0001</td>\n",
       "    </tr>\n",
       "    <tr>\n",
       "      <th>cat_ID_675201</th>\n",
       "      <td>0.0000</td>\n",
       "      <td>0.2115</td>\n",
       "      <td>0.1700</td>\n",
       "      <td>0.0000</td>\n",
       "      <td>0.0000</td>\n",
       "      <td>0.2167</td>\n",
       "    </tr>\n",
       "    <tr>\n",
       "      <th>cat_ID_201436</th>\n",
       "      <td>0.0000</td>\n",
       "      <td>0.3803</td>\n",
       "      <td>0.0975</td>\n",
       "      <td>0.0001</td>\n",
       "      <td>0.2167</td>\n",
       "      <td>0.0000</td>\n",
       "    </tr>\n",
       "  </tbody>\n",
       "</table>\n",
       "</div>"
      ],
      "text/plain": [
       "              cat_ID_489756 cat_ID_361254 cat_ID_874521 cat_ID_326584  \\\n",
       "cat_ID_489756        0.0000        0.0000        0.0000        0.0000   \n",
       "cat_ID_361254        0.0000        0.0000        0.0054        0.0000   \n",
       "cat_ID_874521        0.0000        0.0054        0.0000        0.0000   \n",
       "cat_ID_326584        0.0000        0.0000        0.0000        0.0000   \n",
       "cat_ID_675201        0.0000        0.2115        0.1700        0.0000   \n",
       "cat_ID_201436        0.0000        0.3803        0.0975        0.0001   \n",
       "\n",
       "              cat_ID_675201 cat_ID_201436  \n",
       "cat_ID_489756        0.0000        0.0000  \n",
       "cat_ID_361254        0.2115        0.3803  \n",
       "cat_ID_874521        0.1700        0.0975  \n",
       "cat_ID_326584        0.0000        0.0001  \n",
       "cat_ID_675201        0.0000        0.2167  \n",
       "cat_ID_201436        0.2167        0.0000  "
      ]
     },
     "execution_count": 59,
     "metadata": {},
     "output_type": "execute_result"
    }
   ],
   "source": [
    "matrix_mannwhitneyu = stat_matrix_mannwhitneyu(item_cat_price_cleaned)\n",
    "matrix_mannwhitneyu"
   ]
  },
  {
   "cell_type": "code",
   "execution_count": 62,
   "id": "fatty-ready",
   "metadata": {},
   "outputs": [
    {
     "data": {
      "image/png": "[encoded data removed]",
      "text/plain": [
       "<Figure size 1152x432 with 3 Axes>"
      ]
     },
     "metadata": {},
     "output_type": "display_data"
    }
   ],
   "source": [
    "df_stats_levene = df_stats_levene.astype('float64')\n",
    "matrix_ttest = matrix_ttest.astype('float64')\n",
    "matrix_mannwhitneyu = matrix_mannwhitneyu.astype('float64')\n",
    "vmin, vmax = -0.4, 0.4\n",
    "fig, ax = plt.subplots(1,3, figsize=(16,6))\n",
    "g1 = sns.heatmap(df_stats_levene, vmin=vmin, vmax=vmax, cmap=\"Spectral\", ax=ax[0], annot=True, fmt=\".2f\", cbar=False)\n",
    "g2 = sns.heatmap(matrix_ttest, vmin=vmin, vmax=vmax, cmap=\"Spectral\", ax=ax[1], annot=True, fmt=\".2f\", cbar=False)\n",
    "g3 = sns.heatmap(matrix_mannwhitneyu, vmin=vmin, vmax=vmax, cmap=\"Spectral\", ax=ax[2], annot=True, fmt=\".2f\", cbar=False)\n",
    "g1.set_title('Levene')\n",
    "g2.set_title('T-Test Ind.')\n",
    "g3.set_title('Mann-Whitneyu')\n",
    "plt.tight_layout()\n",
    "plt.show()"
   ]
  },
  {
   "cell_type": "code",
   "execution_count": 385,
   "id": "magnetic-stylus",
   "metadata": {},
   "outputs": [
    {
     "data": {
      "image/png": "[encoded data removed]",
      "text/plain": [
       "<Figure size 1152x432 with 3 Axes>"
      ]
     },
     "metadata": {},
     "output_type": "display_data"
    }
   ],
   "source": [
    "df_stats_levene = df_stats_levene.astype('float64')\n",
    "matrix_ttest = matrix_ttest.astype('float64')\n",
    "matrix_mannwhitneyu = matrix_mannwhitneyu.astype('float64')\n",
    "vmin, vmax = 0.0, 0.8\n",
    "fig, ax = plt.subplots(1,3, figsize=(16,6))\n",
    "g1 = sns.heatmap(df_stats_levene, vmin=vmin, vmax=vmax, cmap=\"YlGnBu\", ax=ax[0], annot=True, fmt=\".2f\", cbar=False)\n",
    "g2 = sns.heatmap(matrix_ttest, vmin=vmin, vmax=vmax, cmap=\"YlGnBu\", ax=ax[1], annot=True, fmt=\".2f\", cbar=False)\n",
    "g3 = sns.heatmap(matrix_mannwhitneyu, vmin=vmin, vmax=vmax, cmap=\"YlGnBu\", ax=ax[2], annot=True, fmt=\".2f\", cbar=False)\n",
    "g1.set_title('Levene')\n",
    "g2.set_title('T-Test Ind.')\n",
    "g3.set_title('Mann-Whitneyu')\n",
    "plt.tight_layout()\n",
    "plt.show()"
   ]
  },
  {
   "cell_type": "code",
   "execution_count": null,
   "id": "macro-confidentiality",
   "metadata": {},
   "outputs": [],
   "source": []
  },
  {
   "cell_type": "code",
   "execution_count": null,
   "id": "diagnostic-fantasy",
   "metadata": {},
   "outputs": [],
   "source": []
  },
  {
   "cell_type": "code",
   "execution_count": null,
   "id": "other-messenger",
   "metadata": {},
   "outputs": [],
   "source": []
  },
  {
   "cell_type": "code",
   "execution_count": null,
   "id": "quick-township",
   "metadata": {},
   "outputs": [],
   "source": []
  },
  {
   "cell_type": "code",
   "execution_count": null,
   "id": "capable-width",
   "metadata": {},
   "outputs": [],
   "source": []
  },
  {
   "cell_type": "code",
   "execution_count": null,
   "id": "printable-noise",
   "metadata": {},
   "outputs": [],
   "source": []
  },
  {
   "cell_type": "code",
   "execution_count": null,
   "id": "tired-pathology",
   "metadata": {},
   "outputs": [],
   "source": []
  },
  {
   "cell_type": "code",
   "execution_count": null,
   "id": "introductory-yellow",
   "metadata": {},
   "outputs": [],
   "source": []
  },
  {
   "cell_type": "code",
   "execution_count": null,
   "id": "commercial-reaction",
   "metadata": {},
   "outputs": [],
   "source": []
  }
 ],
 "metadata": {
  "kernelspec": {
   "display_name": "Python 3",
   "language": "python",
   "name": "python3"
  },
  "language_info": {
   "codemirror_mode": {
    "name": "ipython",
    "version": 3
   },
   "file_extension": ".py",
   "mimetype": "text/x-python",
   "name": "python",
   "nbconvert_exporter": "python",
   "pygments_lexer": "ipython3",
   "version": "3.8.5"
  }
 },
 "nbformat": 4,
 "nbformat_minor": 5
}
